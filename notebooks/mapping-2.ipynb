{
 "cells": [
  {
   "cell_type": "markdown",
   "source": [
    "# Imports"
   ],
   "metadata": {}
  },
  {
   "cell_type": "code",
   "execution_count": null,
   "source": [
    "import os\n",
    "from pathlib import Path\n",
    "import pandas as pd\n",
    "import sys\n",
    "sys.path.append('..')\n",
    "from vars import *\n",
    "from fuzzywuzzy import process, fuzz\n",
    "import re"
   ],
   "outputs": [],
   "metadata": {}
  },
  {
   "cell_type": "markdown",
   "source": [
    "# Read Mapping System"
   ],
   "metadata": {}
  },
  {
   "cell_type": "code",
   "execution_count": null,
   "source": [
    "ms_df = pd.read_excel(MAPPING_SYSTEM_PATH, sheet_name='Vehicle Part Mapping System', header=1)\n",
    "ms_df.head()"
   ],
   "outputs": [],
   "metadata": {}
  },
  {
   "cell_type": "code",
   "execution_count": null,
   "source": [
    "MAKES = ms_df['Make'].unique()\n",
    "MODELS = ms_df['Model'].unique()"
   ],
   "outputs": [],
   "metadata": {}
  },
  {
   "cell_type": "markdown",
   "source": [
    "# Read XLSX data\n",
    "\n",
    "1.  Read xlsx files\n",
    "2.  remove re-work dataframes that have more than 12 columns\n",
    "3.  create one long dataframe\n",
    "4.  rename columns"
   ],
   "metadata": {}
  },
  {
   "cell_type": "code",
   "execution_count": null,
   "source": [
    "parent = BASE_DIR / 'data' / 'processed'\n",
    "files = os.listdir(parent)\n",
    "for file in files:\n",
    "    if not '.xlsx' in file:\n",
    "        files.remove(file)\n",
    "\n",
    "files"
   ],
   "outputs": [],
   "metadata": {}
  },
  {
   "cell_type": "code",
   "execution_count": null,
   "source": [
    "dfs = []\n",
    "for file in files:\n",
    "    xls = pd.ExcelFile(os.path.join(parent, file), engine='openpyxl')\n",
    "    for sheet in range(10):\n",
    "        dfs.append(pd.read_excel(\n",
    "            xls,\n",
    "            'Sheet{}'.format(sheet+1),\n",
    "            skiprows=3,\n",
    "            skipfooter=4,\n",
    "        ))"
   ],
   "outputs": [],
   "metadata": {}
  },
  {
   "cell_type": "code",
   "execution_count": null,
   "source": [
    "dfs[0].head()"
   ],
   "outputs": [],
   "metadata": {}
  },
  {
   "cell_type": "code",
   "execution_count": null,
   "source": [
    "fdfs = []\n",
    "for df in dfs:\n",
    "    if df.shape[1] > 12:\n",
    "        df['Mounting information.1'] = df['Mounting information.1'].combine_first(df['Unnamed: 12'])\n",
    "        df = df.drop(columns='Unnamed: 12')\n",
    "        # display(df)\n",
    "    fdfs.append(df)"
   ],
   "outputs": [],
   "metadata": {}
  },
  {
   "cell_type": "code",
   "execution_count": null,
   "source": [
    "df = pd.concat(fdfs)"
   ],
   "outputs": [],
   "metadata": {}
  },
  {
   "cell_type": "code",
   "execution_count": null,
   "source": [
    "df"
   ],
   "outputs": [],
   "metadata": {}
  },
  {
   "cell_type": "code",
   "execution_count": null,
   "source": [
    "column_headings = [\n",
    "    'Year',\n",
    "    'Application',\n",
    "    'Front Entry Shock',\n",
    "    'Front Premium Shock',\n",
    "    'Front Springs',\n",
    "    'Front Protection kits/ Mounting kits',\n",
    "    'Front Mounting information',\n",
    "    'Rear Entry Shock',\n",
    "    'Rear Premium Shock',\n",
    "    'Rear Springs',\n",
    "    'Rear Protection kits/ Mounting kits',\n",
    "    'Rear Mounting information',\n",
    "]"
   ],
   "outputs": [],
   "metadata": {}
  },
  {
   "cell_type": "code",
   "execution_count": null,
   "source": [
    "df = df.rename(columns={\n",
    "    'Year': 'Year',\n",
    "    'Application': 'Application',\n",
    "    'Entry\\nshocks': 'Front Entry Shock',\n",
    "    'Premium\\nshocks': 'Front Premium Shock',\n",
    "    'Springs': 'Front Springs',\n",
    "    'Protection\\nkits/\\nMounting\\nkits': 'Front Protection kits/ Mounting kits',\n",
    "    'Mounting information': 'Front Mounting information',\n",
    "    'Entry\\nshocks.1': 'Rear Entry Shock',\n",
    "    'Premium\\nshocks.1': 'Rear Premium Shock',\n",
    "    'Springs.1': 'Rear Springs',\n",
    "    'Protection\\nkits/\\nMounting\\nkits.1': 'Rear Protection kits/ Mounting kits',\n",
    "    'Mounting information.1': 'Rear Mounting information',\n",
    "})[column_headings]"
   ],
   "outputs": [],
   "metadata": {}
  },
  {
   "cell_type": "markdown",
   "source": [
    "# Clean dataframe"
   ],
   "metadata": {}
  },
  {
   "cell_type": "code",
   "execution_count": null,
   "source": [
    "df.Year.fillna(method='ffill', inplace=True)"
   ],
   "outputs": [],
   "metadata": {}
  },
  {
   "cell_type": "code",
   "execution_count": null,
   "source": [
    "if []:\n",
    "    display(True)"
   ],
   "outputs": [],
   "metadata": {}
  },
  {
   "cell_type": "code",
   "execution_count": null,
   "source": [
    "no_match_found = []\n",
    "make_matches = {}\n",
    "model_matches = {}\n",
    "for i, row in df.iterrows():\n",
    "    if '-' not in row['Year']:\n",
    "        row_make_or_model = row['Year'].rstrip(' continued')\n",
    "        row_match = process.extractOne(row_make_or_model, MAKES, score_cutoff=85)\n",
    "        if row_match:\n",
    "            make_matches[row_match[0]] = row_make_or_model\n",
    "        else:\n",
    "            row_match = process.extractOne(row_make_or_model, MODELS, score_cutoff=85)\n",
    "            if row_match:\n",
    "                model_matches[row_match[0]] = row_make_or_model\n",
    "            else:\n",
    "                no_match_found.append(row_make_or_model)\n",
    "    "
   ],
   "outputs": [],
   "metadata": {}
  },
  {
   "cell_type": "code",
   "execution_count": null,
   "source": [
    "len(no_match_found)"
   ],
   "outputs": [],
   "metadata": {}
  },
  {
   "cell_type": "code",
   "execution_count": null,
   "source": [
    "process.extract('RAV4', ['RAV'])"
   ],
   "outputs": [],
   "metadata": {}
  },
  {
   "cell_type": "code",
   "execution_count": null,
   "source": [
    "no_match_found"
   ],
   "outputs": [],
   "metadata": {}
  },
  {
   "cell_type": "code",
   "execution_count": null,
   "source": [
    "len(make_matches)"
   ],
   "outputs": [],
   "metadata": {}
  },
  {
   "cell_type": "code",
   "execution_count": null,
   "source": [
    "len(model_matches)"
   ],
   "outputs": [],
   "metadata": {}
  },
  {
   "cell_type": "code",
   "execution_count": null,
   "source": [
    "def get_make_or_model(row, makes_or_models, model=True, check_col=False):\n",
    "    if '-' not in row['Year']:\n",
    "        matches = []\n",
    "        row_make_or_model = row['Year'].rstrip(' continued')\n",
    "        if model:\n",
    "            row_make_or_model = row_make_or_model.rstrip(' K').rstrip(' H').rstrip(' S').rstrip(' W').rstrip(' F')\n",
    "        # for make_or_model in makes_or_models:\n",
    "        #     if make_or_model in row_make_or_model.upper():\n",
    "        #         matches.append(make_or_model)\n",
    "        #     else:\n",
    "        #         print('Row make or model not found:', row_make_or_model)\n",
    "        #         print(row_make_or_model, process.extractBests(row_make_or_model, makes_or_models, score_cutoff=70))\n",
    "\n",
    "        row_match = process.extractOne(row_make_or_model, makes_or_models, score_cutoff=85)\n",
    "        if row_match:\n",
    "            best_match = process.extractOne(row_make_or_model, makes_or_models)\n",
    "            if check_col and best_match[1] < 90:\n",
    "                # print('Low match:', row['Year'])\n",
    "                return 'Check'\n",
    "            elif check_col:\n",
    "                return 'In DB'\n",
    "            return row_match[0]\n",
    "        # else:\n",
    "        #     print('No match:', row_make_or_model)\n",
    "\n",
    "        # else:\n",
    "            # print('No matches:', row['Year'])\n",
    "    \n",
    "    return None"
   ],
   "outputs": [],
   "metadata": {}
  },
  {
   "cell_type": "code",
   "execution_count": null,
   "source": [
    "new_df = df.copy()"
   ],
   "outputs": [],
   "metadata": {}
  },
  {
   "cell_type": "code",
   "execution_count": null,
   "source": [
    "df['Make'] = df.apply(lambda row: get_make_or_model(row, MAKES, model=False), axis=1)\n",
    "df['Model'] = df.apply(lambda row: get_make_or_model(row, MODELS, model=True), axis=1)\n",
    "df['Check Model'] = df.apply(lambda row: get_make_or_model(row, MODELS, model=True, check_col=True), axis=1)"
   ],
   "outputs": [],
   "metadata": {}
  },
  {
   "cell_type": "code",
   "execution_count": null,
   "source": [
    "df.Model.fillna(method='ffill', inplace=True)\n",
    "df.Make.fillna(method='ffill', inplace=True)\n",
    "df['Check Model'].fillna(method='ffill', inplace=True)"
   ],
   "outputs": [],
   "metadata": {}
  },
  {
   "cell_type": "code",
   "execution_count": null,
   "source": [
    "df.shape"
   ],
   "outputs": [],
   "metadata": {}
  },
  {
   "cell_type": "code",
   "execution_count": null,
   "source": [
    "df.dropna(\n",
    "    subset=[\n",
    "        'Front Entry Shock',\n",
    "        'Front Premium Shock',\n",
    "        'Front Springs',\n",
    "        'Front Protection kits/ Mounting kits',\n",
    "        'Front Mounting information',\n",
    "        'Rear Entry Shock',\n",
    "        'Rear Premium Shock',\n",
    "        'Rear Springs',\n",
    "        'Rear Protection kits/ Mounting kits',\n",
    "        'Rear Mounting information'\n",
    "    ],\n",
    "    how='all',\n",
    "    inplace=True\n",
    ")"
   ],
   "outputs": [],
   "metadata": {}
  },
  {
   "cell_type": "code",
   "execution_count": null,
   "source": [
    "df.shape"
   ],
   "outputs": [],
   "metadata": {}
  },
  {
   "cell_type": "code",
   "execution_count": null,
   "source": [
    "df = df.assign(Year=df['Year'].str.split('/')).explode('Year')"
   ],
   "outputs": [],
   "metadata": {}
  },
  {
   "cell_type": "code",
   "execution_count": null,
   "source": [
    "def get_start_or_end_year(row, start_year=True):\n",
    "    \"\"\"\n",
    "    Returns either the starting year or ending. If `start_year` is set to True then the starting\n",
    "    year is returned, otherwise the ending year is returned.\n",
    "    \"\"\"\n",
    "    if start_year:\n",
    "        i = 0\n",
    "    else:\n",
    "        i = 1\n",
    "    \n",
    "    _year = str(row['Year'])\n",
    "    _year = _year.replace('only', '')\n",
    "\n",
    "    if '-' in _year:\n",
    "        try:\n",
    "            _year = _year.split('-')[i]\n",
    "\n",
    "        except IndexError:\n",
    "            if not start_year:\n",
    "                return row['Start Year']\n",
    "            else:\n",
    "                return None\n",
    "\n",
    "    if 'All' in _year:\n",
    "        if start_year:\n",
    "            _year = 1900\n",
    "        else:\n",
    "            _year = 'on'\n",
    "\n",
    "    elif 'on' not in _year:\n",
    "        _year = re.sub('\\D', '', _year)\n",
    "        try:\n",
    "            _year = int(_year)\n",
    "            if _year < 30:\n",
    "                _year += 2000\n",
    "            else:\n",
    "                _year += 1900\n",
    "        except ValueError:\n",
    "            print('Value error with year:', row['Year'])\n",
    "\n",
    "    if _year == '':\n",
    "        print('Year:', row['Year'])\n",
    "\n",
    "    if isinstance(_year, int):\n",
    "        if _year > 2021:\n",
    "            _year = ''\n",
    "\n",
    "    elif isinstance(_year, str):\n",
    "        if _year != 'on':\n",
    "            _year = ''\n",
    "        \n",
    "    return _year"
   ],
   "outputs": [],
   "metadata": {}
  },
  {
   "cell_type": "code",
   "execution_count": null,
   "source": [
    "df['Start Year'] = df.apply(lambda row: get_start_or_end_year(row), axis=1)\n",
    "df['End Year'] = df.apply(lambda row: get_start_or_end_year(row, start_year=False), axis=1)"
   ],
   "outputs": [],
   "metadata": {}
  },
  {
   "cell_type": "code",
   "execution_count": null,
   "source": [
    "df.head()"
   ],
   "outputs": [],
   "metadata": {}
  },
  {
   "cell_type": "code",
   "execution_count": null,
   "source": [
    "def extract_incl_derivatives(row):\n",
    "    deriv = str(row.Application).replace(str(row.Model).replace('/', '&'), '').strip()\n",
    "    init_deriv = deriv.replace('\\r', '')\n",
    "    deriv = init_deriv\n",
    "    if '(EXCL' in deriv.upper():\n",
    "        deriv_i = deriv.upper().find('(EXCL')\n",
    "        deriv = deriv[:deriv_i].strip()\n",
    "        \n",
    "    # print('Deriv before', deriv)\n",
    "    if '(INCL' in init_deriv.upper():\n",
    "        # print('Incl found in', init_deriv)\n",
    "        other_includes_i = init_deriv.upper().find('(INCL')\n",
    "        deriv = deriv[:other_includes_i]\n",
    "        deriv = [x.strip() for x in re.split(',|&', deriv)]\n",
    "        # print('Deriv after', deriv)\n",
    "        other_includes = init_deriv[other_includes_i:].strip()\n",
    "        # other_includes = other_includes[other_includes_i:].strip()\n",
    "        other_includes = re.sub('\\(incl|\\(INCL\\.*|\\)', '', other_includes)\n",
    "        other_includes = [x.strip() for x in re.split(',|&|\\/', other_includes)]\n",
    "        # print('Other includes:', other_includes)\n",
    "        deriv.extend(other_includes)\n",
    "    else:\n",
    "        deriv = [x.strip() for x in re.split(',|&|\\/', deriv)]\n",
    "\n",
    "    if isinstance(deriv, list):\n",
    "        if len(list(filter(None, deriv))) == 0:\n",
    "            return ''\n",
    "        else:\n",
    "            return deriv\n",
    "    else:\n",
    "        return ''"
   ],
   "outputs": [],
   "metadata": {}
  },
  {
   "cell_type": "code",
   "execution_count": null,
   "source": [
    "def extract_excl_derivatives(row):\n",
    "    deriv = str(row.Application).replace(str(row.Model).replace('/', '&'), '').strip()\n",
    "    init_deriv = deriv.replace('\\r', '')\n",
    "    deriv = init_deriv\n",
    "    if '(EXCL' in deriv.upper():\n",
    "        deriv_i = deriv.upper().find('(EXCL')\n",
    "        deriv = deriv[deriv_i:].strip()\n",
    "        deriv = re.sub('\\(excl|\\(EXCL\\.*|\\)', '', deriv)\n",
    "        deriv = [x.strip() for x in re.split(',|&|\\/', deriv)]\n",
    "    else:\n",
    "        return ''\n",
    "\n",
    "    return deriv"
   ],
   "outputs": [],
   "metadata": {}
  },
  {
   "cell_type": "code",
   "execution_count": null,
   "source": [
    "df['Include Derivatives'] = df.apply(lambda row: extract_incl_derivatives(row), axis=1)\n",
    "df['Exclude Derivatives'] = df.apply(lambda row: extract_excl_derivatives(row), axis=1)"
   ],
   "outputs": [],
   "metadata": {}
  },
  {
   "cell_type": "markdown",
   "source": [
    "# Clean up database"
   ],
   "metadata": {}
  },
  {
   "cell_type": "markdown",
   "source": [
    "## Remove funny characters from parts"
   ],
   "metadata": {}
  },
  {
   "cell_type": "code",
   "execution_count": null,
   "source": [
    "def remove_funnies(row, col):\n",
    "    value = row[col]\n",
    "    if isinstance(value, str):\n",
    "        value = re.sub('\\r', ' ', value)\n",
    "        value = re.sub(r'\\“*|\\”*', '', value)\n",
    "        return value\n",
    "    else:\n",
    "        return row[col]"
   ],
   "outputs": [],
   "metadata": {}
  },
  {
   "cell_type": "code",
   "execution_count": null,
   "source": [
    "part_cols = [\n",
    "    'Front Entry Shock',\n",
    "    'Front Premium Shock',\n",
    "    'Front Springs',\n",
    "    'Front Protection kits/ Mounting kits',\n",
    "    'Front Mounting information',\n",
    "    'Rear Entry Shock',\n",
    "    'Rear Premium Shock',\n",
    "    'Rear Springs',\n",
    "    'Rear Protection kits/ Mounting kits',\n",
    "    'Rear Mounting information'\n",
    "]\n",
    "\n",
    "for col in part_cols:\n",
    "    df[col] = df.apply(lambda row: remove_funnies(row, col), axis=1)"
   ],
   "outputs": [],
   "metadata": {}
  },
  {
   "cell_type": "code",
   "execution_count": null,
   "source": [
    "def extract_with_regex(row, col, search_pattern, sub_pattern):\n",
    "    value = row[col]\n",
    "    if value and isinstance(value, str):\n",
    "        if re.findall(search_pattern, value):\n",
    "            # value = re.sub(r'\\“*|\\”*', '', value)\n",
    "            return re.sub(sub_pattern, '', value)\n",
    "\n",
    "    return ''"
   ],
   "outputs": [],
   "metadata": {}
  },
  {
   "cell_type": "code",
   "execution_count": null,
   "source": [
    "df['Rear Protection kits'] = df.apply(lambda row: extract_with_regex(row, 'Rear Protection kits/ Mounting kits', r'PK\\d*', r'\\/\\s*MK\\d*\\s*'), axis=1)\n",
    "df['Rear Mounting kits'] = df.apply(lambda row: extract_with_regex(row, 'Rear Protection kits/ Mounting kits', r'MK\\d*', r'\\“*PK\\d*\\”*\\s*\\/*\\s*'), axis=1)\n",
    "df['Front Protection kits'] = df.apply(lambda row: extract_with_regex(row, 'Front Protection kits/ Mounting kits', r'PK\\d*', r'\\/\\s*MK\\d*\\s*'), axis=1)\n",
    "df['Front Mounting kits'] = df.apply(lambda row: extract_with_regex(row, 'Front Protection kits/ Mounting kits', r'MK\\d*', r'\\“*PK\\d*\\”*\\s*\\/*\\s*'), axis=1)"
   ],
   "outputs": [],
   "metadata": {}
  },
  {
   "cell_type": "code",
   "execution_count": null,
   "source": [
    "fdf = df[[\n",
    "    'Make',\n",
    "    'Model',\n",
    "    'Check Model',\n",
    "    'Start Year',\n",
    "    'End Year',\n",
    "    'Include Derivatives',\n",
    "    'Exclude Derivatives',\n",
    "    'Front Entry Shock',\n",
    "    'Front Premium Shock',\n",
    "    'Front Springs',\n",
    "    'Front Protection kits',\n",
    "    'Front Mounting kits',\n",
    "    'Front Mounting information',\n",
    "    'Rear Entry Shock',\n",
    "    'Rear Premium Shock',\n",
    "    'Rear Springs',\n",
    "    'Rear Protection kits',\n",
    "    'Rear Mounting kits',\n",
    "    'Rear Mounting information',\n",
    "]]"
   ],
   "outputs": [],
   "metadata": {}
  },
  {
   "cell_type": "code",
   "execution_count": null,
   "source": [
    "fdf = fdf.assign(Model=fdf['Model'].str.split('/')).explode('Model')"
   ],
   "outputs": [],
   "metadata": {}
  },
  {
   "cell_type": "markdown",
   "source": [
    "# Match with mapping system"
   ],
   "metadata": {}
  },
  {
   "cell_type": "code",
   "execution_count": null,
   "source": [
    "def match_cols(x, row):\n",
    "\n",
    "    if row['End Year'] == 'on':\n",
    "        end_year = datetime.datetime.now().year\n",
    "    else:\n",
    "        end_year = row['End Year']\n",
    "\n",
    "    try:\n",
    "        if isinstance(end_year, str):\n",
    "            end_year = int(end_year)\n",
    "    except ValueError:\n",
    "        print(row)\n",
    "        return False\n",
    "\n",
    "    fill = False\n",
    "\n",
    "    if x.Make == row.Make and\\\n",
    "        x.Model == row.Model and\\\n",
    "            x['Model Year'] > row['Start Year'] and\\\n",
    "                x['Model Year'] < end_year:\n",
    "                fill = True\n",
    "                incl_derivs = row['Include Derivatives']\n",
    "                excl_derivs = row['Exclude Derivatives']\n",
    "                if incl_derivs:\n",
    "                    # print('Include Derivs:', incl_derivs)\n",
    "                    # print( x['Derivative'])\n",
    "                    if not any(fuzz.WRatio(deriv.upper(), x['Derivative']) >= 90 for deriv in incl_derivs):\n",
    "                        fill = False\n",
    "                if excl_derivs:\n",
    "                    # print('Exclude Derivs', excl_derivs)\n",
    "                    # print( x['Derivative'])\n",
    "                    if any(fuzz.WRatio(deriv.upper(), x['Derivative']) >= 90 for deriv in excl_derivs):\n",
    "                        fill = False\n",
    "    \n",
    "    if fill:\n",
    "        return True\n",
    "    \n",
    "    return False"
   ],
   "outputs": [],
   "metadata": {}
  },
  {
   "cell_type": "code",
   "execution_count": null,
   "source": [
    "def derivative_match(x, row, include=True):\n",
    "    if include:\n",
    "        in_or_ex = 'Include'\n",
    "    else:\n",
    "        in_or_ex = 'Exclude'\n",
    "    incl_derivs = row[f'{in_or_ex} Derivatives']\n",
    "    for deriv in incl_derivs:\n",
    "        # print(x.keys())\n",
    "        if fuzz.WRatio(deriv, x['Derivative']) >= 90:\n",
    "            return deriv\n",
    "    return ''"
   ],
   "outputs": [],
   "metadata": {}
  },
  {
   "cell_type": "code",
   "execution_count": null,
   "source": [
    "column_mapping = {\n",
    "    'Front Left': 'Front Entry Shock',\n",
    "    'Front Right': 'Front Entry Shock',\n",
    "    'Protection Kits Front': 'Front Protection kits',\n",
    "    'Mounting Kits Front': 'Front Mounting kits',\n",
    "    'Rear Left': 'Rear Entry Shock',\n",
    "    'Rear Right ': 'Rear Entry Shock',\n",
    "    'Protection Kits Rear': 'Rear Protection kits',\n",
    "    'Mounting Kits Rear': 'Rear Mounting kits',\n",
    "    'Front Left 1': 'Front Premium Shock',\n",
    "    'Front Right 1': 'Front Premium Shock',\n",
    "    'Rear Left    1': 'Rear Premium Shock',\n",
    "    'Rear Right 1': 'Rear Premium Shock',\n",
    "}"
   ],
   "outputs": [],
   "metadata": {}
  },
  {
   "cell_type": "code",
   "execution_count": null,
   "source": [
    "for index, row in fdf.iterrows():\n",
    "\n",
    "    indexes = ms_df[ms_df.apply(lambda x: match_cols(x, row), axis=1)].index\n",
    "    \n",
    "    ms_df.loc[indexes, 'Include Derivative'] = ms_df.loc[indexes].apply(lambda x: derivative_match(x, row, include=True), axis=1)\n",
    "    ms_df.loc[indexes, 'Exclude Derivative'] = ms_df.loc[indexes].apply(lambda x: derivative_match(x, row, include=False), axis=1)\n",
    "\n",
    "    for key in column_mapping.keys():\n",
    "        ms_df.loc[indexes, key] = row[column_mapping[key]]"
   ],
   "outputs": [],
   "metadata": {}
  }
 ],
 "metadata": {
  "orig_nbformat": 4,
  "language_info": {
   "name": "python",
   "version": "3.9.10",
   "mimetype": "text/x-python",
   "codemirror_mode": {
    "name": "ipython",
    "version": 3
   },
   "pygments_lexer": "ipython3",
   "nbconvert_exporter": "python",
   "file_extension": ".py"
  },
  "kernelspec": {
   "name": "python3",
   "display_name": "Python 3.9.10 64-bit ('env': venv)"
  },
  "interpreter": {
   "hash": "295182eb76d94eb33dbf1513711abfcec388f7d5a14a6dffd8a2166bc71528d9"
  }
 },
 "nbformat": 4,
 "nbformat_minor": 2
}